{
 "cells": [
  {
   "cell_type": "code",
   "execution_count": null,
   "id": "3abea514",
   "metadata": {},
   "outputs": [],
   "source": [
    "# import\n",
    "import math, os, random, cv2, numpy, torch\n",
    "import torch.nn as nn\n",
    "from ultralytics import YOLO"
   ]
  },
  {
   "cell_type": "markdown",
   "id": "37c42277",
   "metadata": {},
   "source": [
    "# 1. BACKBONE\n",
    "## 1.1. Conv"
   ]
  },
  {
   "cell_type": "code",
   "execution_count": null,
   "id": "68610bad",
   "metadata": {},
   "outputs": [],
   "source": [
    "class Conv(nn.Module):\n",
    "    def __init__(self, in_channels, out_channels, kernel_size=3, stride=1, padding=1, groups=1, activation=True):\n",
    "        super().__init__()\n",
    "        self.conv = nn.Conv2d(in_channels, out_channels, kernel_size, stride, padding, groups=groups, bias=False)\n",
    "        self.bn = nn.BatchNorm2d(out_channels, eps=0.001, momentum=0.03)\n",
    "        self.activation = nn.SiLU() if activation else nn.Identity()\n",
    "\n",
    "    def forward(self, x):\n",
    "        return self.activation(self.bn(self.conv(x)))"
   ]
  },
  {
   "cell_type": "markdown",
   "id": "697dddfb",
   "metadata": {},
   "source": [
    "## 1.2. C2f"
   ]
  },
  {
   "cell_type": "code",
   "execution_count": null,
   "id": "da561efc",
   "metadata": {},
   "outputs": [],
   "source": [
    "# (a) Bottleneck: stack of 2 Conv with shortcut connnection\n",
    "class Bottleneck(nn.Module):\n",
    "    def __init__(self, in_channels, out_channels, shortcut=True):\n",
    "        super().__init__()\n",
    "        self.conv1 = Conv(in_channels, out_channels, kernel_size=3, stride=1, padding=1)\n",
    "        self.conv2 = Conv(out_channels, out_channels, kernel_size=3, stride=1, padding=1)\n",
    "        self.shortcut = shortcut\n",
    "\n",
    "    def forward(self, x):\n",
    "        x_in = x\n",
    "        x = self.conv1(x)\n",
    "        x = self.conv2(x)\n",
    "        if self.shortcut:\n",
    "            x = x + x_in\n",
    "        return x\n",
    "    \n",
    "# (b) C2f: Conv + 2 Bottleneck + Conv\n",
    "class C2f(nn.Module):\n",
    "    def __init__(self, in_channels, out_channels, num_bottlenecks, shortcut=True):\n",
    "        super().__init__()\n",
    "        \n",
    "        self.mid_channels = out_channels // 2\n",
    "        self.num_bottlenecks = num_bottlenecks\n",
    "        \n",
    "        self.conv1 = Conv(in_channels, out_channels, kernel_size=1, stride=1, padding=0)\n",
    "        \n",
    "        self.bottlenecks = nn.ModuleList([Bottleneck(self.mid_channels, self.mid_channels, shortcut=shortcut) for _ in range(num_bottlenecks)])\n",
    "        \n",
    "        self.conv2=Conv((num_bottlenecks+2)*out_channels//2,out_channels,kernel_size=1,stride=1,padding=0)\n",
    "        \n",
    "    def forward(self, x):\n",
    "        x = self.conv1(x)\n",
    "        \n",
    "        # split x along channel dimension\n",
    "        x1, x2 = x[:,:x.shape[1]//2,:,:], x[:,x.shape[1]//2:,:,:] \n",
    "        \n",
    "        # list of outputs\n",
    "        outputs=[x1,x2] # x1 is fed through the bottlenecks\n",
    "        \n",
    "        for i in range(self.num_bottlenecks):\n",
    "            x1 = self.bottlenecks[i](x1) # [bs,0.5c_out,w,h]\n",
    "            outputs.insert(0, x1)\n",
    "        \n",
    "        outputs = torch.cat(outputs, dim=1)  # [bs,0.5c_out(num_bottlenecks+2),w,h]\n",
    "        outputs = self.conv2(outputs)  # [bs,c_out,w,h]\n",
    "        \n",
    "        return outputs"
   ]
  },
  {
   "cell_type": "markdown",
   "id": "07cbbb8f",
   "metadata": {},
   "source": [
    "## 1.3. SPFF"
   ]
  },
  {
   "cell_type": "code",
   "execution_count": null,
   "id": "2309d243",
   "metadata": {},
   "outputs": [],
   "source": [
    "class SPFF(nn.Module):\n",
    "    def __init__(self, in_channels, out_channels, kernel_size=5):\n",
    "        super().__init__()\n",
    "        \n",
    "        hidden_channels = in_channels // 2\n",
    "        \n",
    "        self.conv1 = Conv(in_channels, hidden_channels, kernel_size=1, stride=1, padding=0)\n",
    "        \n",
    "        # concatenate outputs of maxpool and feed to conv2\n",
    "        self.conv2=Conv(4*hidden_channels,out_channels,kernel_size=1,stride=1,padding=0)"
   ]
  }
 ],
 "metadata": {
  "kernelspec": {
   "display_name": "yolo",
   "language": "python",
   "name": "python3"
  },
  "language_info": {
   "codemirror_mode": {
    "name": "ipython",
    "version": 3
   },
   "file_extension": ".py",
   "mimetype": "text/x-python",
   "name": "python",
   "nbconvert_exporter": "python",
   "pygments_lexer": "ipython3",
   "version": "3.10.18"
  }
 },
 "nbformat": 4,
 "nbformat_minor": 5
}
